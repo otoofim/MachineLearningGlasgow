{
 "cells": [
  {
   "cell_type": "code",
   "execution_count": 26,
   "metadata": {},
   "outputs": [],
   "source": [
    "import pandas as pd\n",
    "import numpy as np\n",
    "from sklearn.preprocessing import StandardScaler\n",
    "from sklearn.cross_validation import train_test_split"
   ]
  },
  {
   "cell_type": "code",
   "execution_count": 27,
   "metadata": {},
   "outputs": [],
   "source": [
    "# Loading data set\n",
    "data_x_train = pd.read_csv(\"./X_train.csv\")\n",
    "X_test = pd.read_csv(\"./X_test.csv\")\n",
    "data_y_train = pd.read_csv(\"./y_train.csv\")\n",
    "# Splitting data set into training and validation sets. 20% of data set is used for validation.\n",
    "X_train, X_val, Y_train, Y_val = train_test_split(data_x_train, data_y_train, test_size = 0.2, random_state = 0)"
   ]
  },
  {
   "cell_type": "code",
   "execution_count": 35,
   "metadata": {},
   "outputs": [],
   "source": [
    "#Feature scaling\n",
    "# It is not needed to scale Ys because they indicate what class a data point belongs to. They are either 1 or 2.\n",
    "sc_X = StandardScaler()\n",
    "X_train_scaled = pd.DataFrame(sc_X.fit_transform(X_train))\n",
    "X_test_scaled = pd.DataFrame(sc_X.transform(X_test))\n",
    "X_val_scaled = pd.DataFrame(sc_X.transform(X_val))\n",
    "\n",
    "sc_Y = StandardScaler()\n",
    "Y_train_scaled = pd.DataFrame(sc_Y.fit_transform(Y_train))\n",
    "Y_val_scaled = pd.DataFrame(sc_Y.transform(Y_val))"
   ]
  },
  {
   "cell_type": "code",
   "execution_count": null,
   "metadata": {},
   "outputs": [],
   "source": []
  }
 ],
 "metadata": {
  "kernelspec": {
   "display_name": "Python 2",
   "language": "python",
   "name": "python2"
  },
  "language_info": {
   "codemirror_mode": {
    "name": "ipython",
    "version": 2
   },
   "file_extension": ".py",
   "mimetype": "text/x-python",
   "name": "python",
   "nbconvert_exporter": "python",
   "pygments_lexer": "ipython2",
   "version": "2.7.14"
  }
 },
 "nbformat": 4,
 "nbformat_minor": 2
}
