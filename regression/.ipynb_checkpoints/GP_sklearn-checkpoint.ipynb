{
 "cells": [
  {
   "cell_type": "code",
   "execution_count": 1,
   "metadata": {},
   "outputs": [
    {
     "name": "stderr",
     "output_type": "stream",
     "text": [
      "/home/motoofi/miniconda2/envs/mlp/lib/python2.7/site-packages/sklearn/cross_validation.py:41: DeprecationWarning: This module was deprecated in version 0.18 in favor of the model_selection module into which all the refactored classes and functions are moved. Also note that the interface of the new CV iterators are different from that of this module. This module will be removed in 0.20.\n",
      "  \"This module will be removed in 0.20.\", DeprecationWarning)\n"
     ]
    }
   ],
   "source": [
    "import numpy as np\n",
    "from sklearn.gaussian_process import GaussianProcessRegressor\n",
    "from sklearn.gaussian_process.kernels import RBF, ConstantKernel as C\n",
    "import pandas as pd\n",
    "from sklearn.preprocessing import StandardScaler\n",
    "from sklearn.cross_validation import train_test_split\n",
    "from sklearn.preprocessing import scale\n",
    "from matplotlib import pyplot as plt\n",
    "from sklearn import gaussian_process\n",
    "from sklearn.gaussian_process.kernels import Matern, WhiteKernel, ConstantKernel\n",
    "from sklearn.metrics import mean_squared_error\n",
    "from sklearn.feature_selection import RFE\n",
    "%matplotlib inline"
   ]
  },
  {
   "cell_type": "code",
   "execution_count": 2,
   "metadata": {},
   "outputs": [],
   "source": [
    "def make_kaggle_submission_file(predictions, modelName):\n",
    "    ofile  = open('./results/Kaggle_submision_{0}.csv'.format(modelName), \"wb\")\n",
    "    writer = csv.writer(ofile)\n",
    "    writer.writerow([\"Id\",\"PRP\"])\n",
    "    for i,score in enumerate(predictions):\n",
    "        writer.writerow([i,int(round(score))])\n",
    "\n",
    "    ofile.close()"
   ]
  },
  {
   "cell_type": "code",
   "execution_count": 3,
   "metadata": {},
   "outputs": [],
   "source": [
    "# Loading data set\n",
    "data_x_train = pd.read_csv(\"./X_train.csv\")\n",
    "X_test = pd.read_csv(\"./X_test.csv\")\n",
    "data_y_train = pd.read_csv(\"./y_train.csv\")\n",
    "# Splitting data set into training and validation sets. 20% of data set is used for validation.\n",
    "X_train, X_val, Y_train, Y_val = train_test_split(data_x_train, data_y_train, test_size = 0.2, random_state = 0)"
   ]
  },
  {
   "cell_type": "code",
   "execution_count": 4,
   "metadata": {},
   "outputs": [
    {
     "name": "stderr",
     "output_type": "stream",
     "text": [
      "/home/motoofi/miniconda2/envs/mlp/lib/python2.7/site-packages/ipykernel_launcher.py:42: FutureWarning: reshape is deprecated and will raise in a subsequent release. Please use .values.reshape(...) instead\n",
      "/home/motoofi/miniconda2/envs/mlp/lib/python2.7/site-packages/sklearn/utils/validation.py:475: DataConversionWarning: Data with input dtype int64 was converted to float64 by StandardScaler.\n",
      "  warnings.warn(msg, DataConversionWarning)\n",
      "/home/motoofi/miniconda2/envs/mlp/lib/python2.7/site-packages/ipykernel_launcher.py:43: FutureWarning: reshape is deprecated and will raise in a subsequent release. Please use .values.reshape(...) instead\n"
     ]
    }
   ],
   "source": [
    "#Feature scaling\n",
    "# It is not needed to scale Ys because they indicate what class a data point belongs to. They are either 1 or 2.\n",
    "sc_X = StandardScaler()\n",
    "X_train_scaled = pd.DataFrame(sc_X.fit_transform(X_train))\n",
    "#X_train_scaled = pd.concat([X_train_scaled,X_train_scaled**2], axis=1) \n",
    "X_train_scaled = pd.concat([X_train_scaled,X_train_scaled[1]**2], axis=1) \n",
    "#X_train_scaled = pd.concat([X_train_scaled,X_train_scaled[0]**2], axis=1) \n",
    "#X_train_scaled = pd.concat([X_train_scaled,X_train_scaled[2]-X_train_scaled[1]], axis=1) \n",
    "#X_train_scaled = X_train_scaled.loc[:, X_train_scaled.columns != 1]\n",
    "#X_train_scaled = X_train_scaled.loc[:, X_train_scaled.columns != 2]\n",
    "#X_train_scaled = X_train_scaled.loc[:, X_train_scaled.columns != 3]\n",
    "#X_train_scaled = X_train_scaled.loc[:, X_train_scaled.columns != 5]\n",
    "\n",
    "\n",
    "X_test_scaled = pd.DataFrame(sc_X.transform(X_test))\n",
    "#X_test_scaled = pd.concat([X_test_scaled,X_test_scaled**2], axis=1)\n",
    "X_test_scaled = pd.concat([X_test_scaled,X_test_scaled[1]**2], axis=1)\n",
    "#X_test_scaled = pd.concat([X_test_scaled,X_test_scaled[0]**2], axis=1)\n",
    "#X_test_scaled = pd.concat([X_test_scaled,X_test_scaled[1]**3], axis=1)\n",
    "#X_test_scaled = pd.concat([X_test_scaled,X_test_scaled[2]-X_test_scaled[1]], axis=1)\n",
    "#X_test_scaled = X_test_scaled.loc[:, X_test_scaled.columns != 1]\n",
    "#X_test_scaled = X_test_scaled.loc[:, X_test_scaled.columns != 2]\n",
    "#X_test_scaled = X_test_scaled.loc[:, X_test_scaled.columns != 3]\n",
    "#X_test_scaled = X_test_scaled.loc[:, X_test_scaled.columns != 5]\n",
    "\n",
    "\n",
    "\n",
    "X_val_scaled = pd.DataFrame(sc_X.transform(X_val))\n",
    "#X_val_scaled = pd.concat([X_val_scaled,X_val_scaled**2], axis=1)\n",
    "X_val_scaled = pd.concat([X_val_scaled,X_val_scaled[1]**2], axis=1)\n",
    "#X_val_scaled = pd.concat([X_val_scaled,X_val_scaled[0]**2], axis=1)\n",
    "#X_val_scaled = pd.concat([X_val_scaled,X_val_scaled[1]**3], axis=1)\n",
    "#X_val_scaled = pd.concat([X_val_scaled,X_val_scaled[2]-X_val_scaled[1]], axis=1)\n",
    "#X_val_scaled = X_val_scaled.loc[:, X_val_scaled.columns != 1]\n",
    "#X_val_scaled = X_val_scaled.loc[:, X_val_scaled.columns != 2]\n",
    "#X_val_scaled = X_val_scaled.loc[:, X_val_scaled.columns != 3]\n",
    "#X_val_scaled = X_val_scaled.loc[:, X_val_scaled.columns != 5]\n",
    "\n",
    "\n",
    "\n",
    "sc_Y = StandardScaler()\n",
    "Y_train_scaled = pd.DataFrame(sc_Y.fit_transform(Y_train['PRP'].reshape(-1,1)))\n",
    "Y_val_scaled = pd.DataFrame(sc_Y.transform(Y_val['PRP'].reshape(-1,1)))"
   ]
  },
  {
   "cell_type": "code",
   "execution_count": 67,
   "metadata": {},
   "outputs": [
    {
     "data": {
      "text/plain": [
       "'from sklearn.gaussian_process import GaussianProcessRegressor\\nfrom sklearn.gaussian_process.kernels     import RBF, WhiteKernel, RationalQuadratic, ExpSineSquared\\nfrom sklearn.datasets import fetch_mldata\\n\\n# Kernel with optimized parameters\\nk1 = 50.0**2 * RBF(length_scale=50.0)  # long term smooth rising trend\\nk2 = 2.0**2 * RBF(length_scale=100.0)     * ExpSineSquared(length_scale=1.0, periodicity=1.0,\\n                     periodicity_bounds=\"fixed\")  # seasonal component\\n# medium term irregularities\\nk3 = 0.5**2 * RationalQuadratic(length_scale=1.0, alpha=1.0)\\nk4 = 0.1**2 * RBF(length_scale=0.1)     + WhiteKernel(noise_level=0.1**2,\\n                  noise_level_bounds=(1e-3, np.inf))  # noise terms\\nkernel = k1 + k2 + k3 + k4'"
      ]
     },
     "execution_count": 67,
     "metadata": {},
     "output_type": "execute_result"
    }
   ],
   "source": [
    "kernel = ConstantKernel() + Matern(length_scale=2, nu=1.5) + WhiteKernel(noise_level=1)\n",
    "\n",
    "\"\"\"from sklearn.gaussian_process import GaussianProcessRegressor\n",
    "from sklearn.gaussian_process.kernels \\\n",
    "    import RBF, WhiteKernel, RationalQuadratic, ExpSineSquared\n",
    "from sklearn.datasets import fetch_mldata\n",
    "\n",
    "# Kernel with optimized parameters\n",
    "k1 = 50.0**2 * RBF(length_scale=50.0)  # long term smooth rising trend\n",
    "k2 = 2.0**2 * RBF(length_scale=100.0) \\\n",
    "    * ExpSineSquared(length_scale=1.0, periodicity=1.0,\n",
    "                     periodicity_bounds=\"fixed\")  # seasonal component\n",
    "# medium term irregularities\n",
    "k3 = 0.5**2 * RationalQuadratic(length_scale=1.0, alpha=1.0)\n",
    "k4 = 0.1**2 * RBF(length_scale=0.1) \\\n",
    "    + WhiteKernel(noise_level=0.1**2,\n",
    "                  noise_level_bounds=(1e-3, np.inf))  # noise terms\n",
    "kernel = k1 + k2 + k3 + k4\"\"\""
   ]
  },
  {
   "cell_type": "code",
   "execution_count": 72,
   "metadata": {},
   "outputs": [
    {
     "data": {
      "text/plain": [
       "GaussianProcessRegressor(alpha=1e-10, copy_X_train=True,\n",
       "             kernel=1**2 + Matern(length_scale=2, nu=1.5) + WhiteKernel(noise_level=1),\n",
       "             n_restarts_optimizer=0, normalize_y=True,\n",
       "             optimizer='fmin_l_bfgs_b', random_state=None)"
      ]
     },
     "execution_count": 72,
     "metadata": {},
     "output_type": "execute_result"
    }
   ],
   "source": [
    "gp = gaussian_process.GaussianProcessRegressor(kernel=kernel,normalize_y=True)\n",
    "#gp = gaussian_process.GaussianProcessRegressor(kernel=kernel,normalize_y=True,alpha=77)\n",
    "gp.fit(X_train_scaled, Y_train_scaled)"
   ]
  },
  {
   "cell_type": "code",
   "execution_count": 73,
   "metadata": {},
   "outputs": [
    {
     "data": {
      "text/plain": [
       "0.8975854468912701"
      ]
     },
     "execution_count": 73,
     "metadata": {},
     "output_type": "execute_result"
    }
   ],
   "source": [
    "#eliminating indices 1 and 4 improves the results\n",
    "# column 1 **2 : 0.8679278422389975\n",
    "# eliminating index =4 : 0.6341381083201711\n",
    "# Normal : 0.6829271878323513\n",
    "# eliminating 1 and 4 : 0.42240320912213336\n",
    "# poly=2 : 0.9371333224345773\n",
    "# 1 and 4th columns are powered 2: 0.9872783185095246\n",
    "# 1 and 4th columns + whole data are powered 2 :1.0308550713463525\n",
    "y_pred, _ = gp.predict(X_val_scaled, return_std=True)\n",
    "mean_squared_error(Y_val_scaled,y_pred)"
   ]
  },
  {
   "cell_type": "code",
   "execution_count": 70,
   "metadata": {},
   "outputs": [],
   "source": [
    "y_pred, _ = gp.predict(X_test_scaled, return_std=True)"
   ]
  },
  {
   "cell_type": "code",
   "execution_count": 71,
   "metadata": {
    "scrolled": true
   },
   "outputs": [
    {
     "data": {
      "text/plain": [
       "array([[94.84829144],\n",
       "       [94.84776758],\n",
       "       [94.84864491],\n",
       "       [94.85174908],\n",
       "       [94.84852859],\n",
       "       [94.84769999],\n",
       "       [94.84816213],\n",
       "       [94.84718846],\n",
       "       [94.84899694],\n",
       "       [94.84912754],\n",
       "       [94.84810333],\n",
       "       [94.86361909],\n",
       "       [94.84820634],\n",
       "       [94.8514083 ],\n",
       "       [94.86240873],\n",
       "       [94.84790816],\n",
       "       [94.84818046],\n",
       "       [94.84792749],\n",
       "       [94.84801404],\n",
       "       [94.84799524],\n",
       "       [94.8477537 ],\n",
       "       [94.84846724],\n",
       "       [94.86269724],\n",
       "       [94.84811522],\n",
       "       [94.84794924],\n",
       "       [94.84832577],\n",
       "       [94.84790188],\n",
       "       [94.84749434],\n",
       "       [94.84783067],\n",
       "       [94.84817093],\n",
       "       [94.84831969],\n",
       "       [94.84817488],\n",
       "       [94.84797482],\n",
       "       [94.8484168 ],\n",
       "       [94.84872884],\n",
       "       [94.84859564],\n",
       "       [94.84792255],\n",
       "       [94.84807373],\n",
       "       [94.84806072],\n",
       "       [94.84847649],\n",
       "       [94.85127171]])"
      ]
     },
     "execution_count": 71,
     "metadata": {},
     "output_type": "execute_result"
    }
   ],
   "source": [
    "inversed_predictions=sc_Y.inverse_transform(y_pred)\n",
    "inversed_predictions"
   ]
  },
  {
   "cell_type": "code",
   "execution_count": 66,
   "metadata": {},
   "outputs": [],
   "source": [
    "import csv\n",
    "make_kaggle_submission_file(inversed_predictions,\"GP_sklearn_new kernel\")"
   ]
  },
  {
   "cell_type": "markdown",
   "metadata": {},
   "source": [
    "https://blog.dominodatalab.com/fitting-gaussian-process-models-python/"
   ]
  },
  {
   "cell_type": "code",
   "execution_count": 10,
   "metadata": {},
   "outputs": [
    {
     "data": {
      "text/html": [
       "<div>\n",
       "<style scoped>\n",
       "    .dataframe tbody tr th:only-of-type {\n",
       "        vertical-align: middle;\n",
       "    }\n",
       "\n",
       "    .dataframe tbody tr th {\n",
       "        vertical-align: top;\n",
       "    }\n",
       "\n",
       "    .dataframe thead th {\n",
       "        text-align: right;\n",
       "    }\n",
       "</style>\n",
       "<table border=\"1\" class=\"dataframe\">\n",
       "  <thead>\n",
       "    <tr style=\"text-align: right;\">\n",
       "      <th></th>\n",
       "      <th>0</th>\n",
       "      <th>1</th>\n",
       "      <th>2</th>\n",
       "      <th>3</th>\n",
       "      <th>4</th>\n",
       "      <th>5</th>\n",
       "      <th>1</th>\n",
       "    </tr>\n",
       "  </thead>\n",
       "  <tbody>\n",
       "    <tr>\n",
       "      <th>count</th>\n",
       "      <td>1.340000e+02</td>\n",
       "      <td>1.340000e+02</td>\n",
       "      <td>1.340000e+02</td>\n",
       "      <td>1.340000e+02</td>\n",
       "      <td>1.340000e+02</td>\n",
       "      <td>1.340000e+02</td>\n",
       "      <td>134.000000</td>\n",
       "    </tr>\n",
       "    <tr>\n",
       "      <th>mean</th>\n",
       "      <td>-2.651279e-17</td>\n",
       "      <td>8.285246e-17</td>\n",
       "      <td>-6.959607e-17</td>\n",
       "      <td>-6.628197e-18</td>\n",
       "      <td>-5.633968e-17</td>\n",
       "      <td>-7.456722e-18</td>\n",
       "      <td>1.000000</td>\n",
       "    </tr>\n",
       "    <tr>\n",
       "      <th>std</th>\n",
       "      <td>1.003752e+00</td>\n",
       "      <td>1.003752e+00</td>\n",
       "      <td>1.003752e+00</td>\n",
       "      <td>1.003752e+00</td>\n",
       "      <td>1.003752e+00</td>\n",
       "      <td>1.003752e+00</td>\n",
       "      <td>2.978313</td>\n",
       "    </tr>\n",
       "    <tr>\n",
       "      <th>min</th>\n",
       "      <td>-8.033077e-01</td>\n",
       "      <td>-8.548752e-01</td>\n",
       "      <td>-9.474090e-01</td>\n",
       "      <td>-5.924305e-01</td>\n",
       "      <td>-6.973419e-01</td>\n",
       "      <td>-6.500818e-01</td>\n",
       "      <td>0.003141</td>\n",
       "    </tr>\n",
       "    <tr>\n",
       "      <th>25%</th>\n",
       "      <td>-6.738486e-01</td>\n",
       "      <td>-6.948227e-01</td>\n",
       "      <td>-6.035917e-01</td>\n",
       "      <td>-5.924305e-01</td>\n",
       "      <td>-5.255702e-01</td>\n",
       "      <td>-4.810000e-01</td>\n",
       "      <td>0.026641</td>\n",
       "    </tr>\n",
       "    <tr>\n",
       "      <th>50%</th>\n",
       "      <td>-3.796235e-01</td>\n",
       "      <td>-1.632198e-01</td>\n",
       "      <td>-2.541838e-01</td>\n",
       "      <td>-3.783808e-01</td>\n",
       "      <td>-5.255702e-01</td>\n",
       "      <td>-3.795509e-01</td>\n",
       "      <td>0.303932</td>\n",
       "    </tr>\n",
       "    <tr>\n",
       "      <th>75%</th>\n",
       "      <td>3.069016e-01</td>\n",
       "      <td>2.297662e-01</td>\n",
       "      <td>4.446320e-01</td>\n",
       "      <td>2.637683e-01</td>\n",
       "      <td>3.332884e-01</td>\n",
       "      <td>1.615110e-01</td>\n",
       "      <td>0.614872</td>\n",
       "    </tr>\n",
       "    <tr>\n",
       "      <th>max</th>\n",
       "      <td>3.445303e+00</td>\n",
       "      <td>4.838420e+00</td>\n",
       "      <td>4.637527e+00</td>\n",
       "      <td>6.257160e+00</td>\n",
       "      <td>8.234788e+00</td>\n",
       "      <td>5.301599e+00</td>\n",
       "      <td>23.410310</td>\n",
       "    </tr>\n",
       "  </tbody>\n",
       "</table>\n",
       "</div>"
      ],
      "text/plain": [
       "                  0             1             2             3             4  \\\n",
       "count  1.340000e+02  1.340000e+02  1.340000e+02  1.340000e+02  1.340000e+02   \n",
       "mean  -2.651279e-17  8.285246e-17 -6.959607e-17 -6.628197e-18 -5.633968e-17   \n",
       "std    1.003752e+00  1.003752e+00  1.003752e+00  1.003752e+00  1.003752e+00   \n",
       "min   -8.033077e-01 -8.548752e-01 -9.474090e-01 -5.924305e-01 -6.973419e-01   \n",
       "25%   -6.738486e-01 -6.948227e-01 -6.035917e-01 -5.924305e-01 -5.255702e-01   \n",
       "50%   -3.796235e-01 -1.632198e-01 -2.541838e-01 -3.783808e-01 -5.255702e-01   \n",
       "75%    3.069016e-01  2.297662e-01  4.446320e-01  2.637683e-01  3.332884e-01   \n",
       "max    3.445303e+00  4.838420e+00  4.637527e+00  6.257160e+00  8.234788e+00   \n",
       "\n",
       "                  5           1  \n",
       "count  1.340000e+02  134.000000  \n",
       "mean  -7.456722e-18    1.000000  \n",
       "std    1.003752e+00    2.978313  \n",
       "min   -6.500818e-01    0.003141  \n",
       "25%   -4.810000e-01    0.026641  \n",
       "50%   -3.795509e-01    0.303932  \n",
       "75%    1.615110e-01    0.614872  \n",
       "max    5.301599e+00   23.410310  "
      ]
     },
     "execution_count": 10,
     "metadata": {},
     "output_type": "execute_result"
    }
   ],
   "source": [
    "pd.DataFrame.describe(X_train_scaled)"
   ]
  },
  {
   "cell_type": "code",
   "execution_count": null,
   "metadata": {},
   "outputs": [],
   "source": []
  }
 ],
 "metadata": {
  "kernelspec": {
   "display_name": "Python 2",
   "language": "python",
   "name": "python2"
  },
  "language_info": {
   "codemirror_mode": {
    "name": "ipython",
    "version": 2
   },
   "file_extension": ".py",
   "mimetype": "text/x-python",
   "name": "python",
   "nbconvert_exporter": "python",
   "pygments_lexer": "ipython2",
   "version": "2.7.14"
  }
 },
 "nbformat": 4,
 "nbformat_minor": 2
}
