{
 "cells": [
  {
   "cell_type": "code",
   "execution_count": 1,
   "metadata": {},
   "outputs": [
    {
     "name": "stderr",
     "output_type": "stream",
     "text": [
      "/home/motoofi/miniconda2/envs/mlp/lib/python2.7/site-packages/sklearn/cross_validation.py:41: DeprecationWarning: This module was deprecated in version 0.18 in favor of the model_selection module into which all the refactored classes and functions are moved. Also note that the interface of the new CV iterators are different from that of this module. This module will be removed in 0.20.\n",
      "  \"This module will be removed in 0.20.\", DeprecationWarning)\n"
     ]
    }
   ],
   "source": [
    "import pandas as pd\n",
    "import numpy as np\n",
    "from sklearn.preprocessing import StandardScaler\n",
    "from sklearn.cross_validation import train_test_split\n",
    "import tensorflow as tf\n",
    "from sklearn.datasets import load_boston\n",
    "from sklearn.preprocessing import scale\n",
    "from matplotlib import pyplot as plt\n",
    "%matplotlib inline"
   ]
  },
  {
   "cell_type": "code",
   "execution_count": 2,
   "metadata": {},
   "outputs": [],
   "source": [
    "def get_error_and_accuracy(X,Y,error,sess):\n",
    "    err = 0\n",
    "    err += sess.run(error, feed_dict={inputs: X, targets: Y})\n",
    "    return err"
   ]
  },
  {
   "cell_type": "code",
   "execution_count": 3,
   "metadata": {},
   "outputs": [],
   "source": [
    "def make_kaggle_submission_file(predictions, modelName):\n",
    "    ofile  = open('./results/Kaggle_submision_{0}.csv'.format(modelName), \"wb\")\n",
    "    writer = csv.writer(ofile)\n",
    "    writer.writerow([\"Id\",\"PRP\"])\n",
    "    for i,score in enumerate(predictions):\n",
    "        writer.writerow([i,int(round(score[0]))])\n",
    "\n",
    "    ofile.close()"
   ]
  },
  {
   "cell_type": "code",
   "execution_count": 4,
   "metadata": {},
   "outputs": [],
   "source": [
    "# Loading data set\n",
    "data_x_train = pd.read_csv(\"./X_train.csv\")\n",
    "X_test = pd.read_csv(\"./X_test.csv\")\n",
    "data_y_train = pd.read_csv(\"./y_train.csv\")\n",
    "# Splitting data set into training and validation sets. 20% of data set is used for validation.\n",
    "X_train, X_val, Y_train, Y_val = train_test_split(data_x_train, data_y_train, test_size = 0.2, random_state = 0)"
   ]
  },
  {
   "cell_type": "code",
   "execution_count": 5,
   "metadata": {},
   "outputs": [
    {
     "name": "stderr",
     "output_type": "stream",
     "text": [
      "/home/motoofi/miniconda2/envs/mlp/lib/python2.7/site-packages/ipykernel_launcher.py:9: FutureWarning: reshape is deprecated and will raise in a subsequent release. Please use .values.reshape(...) instead\n",
      "  if __name__ == '__main__':\n",
      "/home/motoofi/miniconda2/envs/mlp/lib/python2.7/site-packages/sklearn/utils/validation.py:475: DataConversionWarning: Data with input dtype int64 was converted to float64 by StandardScaler.\n",
      "  warnings.warn(msg, DataConversionWarning)\n",
      "/home/motoofi/miniconda2/envs/mlp/lib/python2.7/site-packages/ipykernel_launcher.py:10: FutureWarning: reshape is deprecated and will raise in a subsequent release. Please use .values.reshape(...) instead\n",
      "  # Remove the CWD from sys.path while we load stuff.\n"
     ]
    }
   ],
   "source": [
    "#Feature scaling\n",
    "# It is not needed to scale Ys because they indicate what class a data point belongs to. They are either 1 or 2.\n",
    "sc_X = StandardScaler()\n",
    "X_train_scaled = pd.DataFrame(sc_X.fit_transform(X_train))\n",
    "X_test_scaled = pd.DataFrame(sc_X.transform(X_test))\n",
    "X_val_scaled = pd.DataFrame(sc_X.transform(X_val))\n",
    "\n",
    "sc_Y = StandardScaler()\n",
    "Y_train_scaled = pd.DataFrame(sc_Y.fit_transform(Y_train['PRP'].reshape(-1,1)))\n",
    "Y_val_scaled = pd.DataFrame(sc_Y.transform(Y_val['PRP'].reshape(-1,1)))"
   ]
  },
  {
   "cell_type": "code",
   "execution_count": 6,
   "metadata": {},
   "outputs": [],
   "source": [
    "w = tf.Variable(tf.truncated_normal([6, 1], mean=0.0, stddev=1.0, dtype=tf.float64,seed=0))\n",
    "b = tf.Variable(tf.zeros(1, dtype = tf.float64))"
   ]
  },
  {
   "cell_type": "code",
   "execution_count": 7,
   "metadata": {},
   "outputs": [],
   "source": [
    "learning_rate = 0.0001\n",
    "epochs = 5000\n",
    "l2=0.2\n",
    "\n",
    "\n",
    "inputs = tf.placeholder(tf.float64, [None, 6], 'inputs')\n",
    "targets = tf.placeholder(tf.float64, [None,1], 'targets')\n",
    "predictions = tf.nn.relu(tf.add(b, tf.matmul(inputs, w)))\n",
    "error = tf.reduce_mean(tf.square(targets - predictions)+(l2*tf.nn.l2_loss(w)))\n",
    "#regularizer = tf.nn.l2_loss(weights)\n",
    "#loss = tf.reduce_mean(loss + beta * regularizer)\n",
    "\n",
    "optimizer = tf.train.GradientDescentOptimizer(learning_rate).minimize(error)\n",
    "\n",
    "sess = tf.InteractiveSession()\n",
    "init_op = tf.global_variables_initializer()\n",
    "sess.run(init_op)"
   ]
  },
  {
   "cell_type": "code",
   "execution_count": null,
   "metadata": {},
   "outputs": [],
   "source": [
    "errors_tr = list()\n",
    "errors_va = list()\n",
    "for e in range(epochs):\n",
    "    running_error = 0.\n",
    "    _, batch_error = sess.run([optimizer, error], feed_dict={inputs: X_train_scaled, targets: Y_train_scaled})\n",
    "    \n",
    "    running_error += batch_error\n",
    "    errors_tr.append(running_error)\n",
    "    print('End of epoch {0}: running error average = {1:.2f}'.format(e + 1, running_error))\n",
    "    if e % 10 == 0:\n",
    "        errors_va.append(get_error_and_accuracy(X_val_scaled,Y_val_scaled,error,sess))\n",
    "        print('Valid data: Error={0:.2f}'.format(errors_va[-1]))\n",
    "        \n",
    "pre = sess.run(predictions, feed_dict={inputs: X_test_scaled})\n"
   ]
  },
  {
   "cell_type": "code",
   "execution_count": null,
   "metadata": {},
   "outputs": [],
   "source": [
    "plt.plot( range(0,epochs),errors_tr, 'r--',label='tr')\n",
    "plt.plot(range(0,epochs,10),errors_va, 'b--',label='va')\n",
    "plt.legend(bbox_to_anchor=(1.05, 1), loc=2, borderaxespad=0.)\n",
    "plt.show()"
   ]
  },
  {
   "cell_type": "code",
   "execution_count": null,
   "metadata": {},
   "outputs": [],
   "source": [
    "inversed_predictions = sc_Y.inverse_transform(pre)\n",
    "inversed_predictions"
   ]
  },
  {
   "cell_type": "raw",
   "metadata": {},
   "source": [
    "import csv\n",
    "make_kaggle_submission_file(inversed_predictions,\"lr={0},l2={1},ep={2}\".format(learning_rate,l2,epochs))"
   ]
  },
  {
   "cell_type": "raw",
   "metadata": {},
   "source": [
    "for i in [0]:\n",
    "    errors_tr = list()\n",
    "    errors_va = list()\n",
    "    for e in range(epochs):\n",
    "        running_error = 0.\n",
    "        _, batch_error = sess.run([optimizer, error], feed_dict={inputs: X_train_scaled.loc[:, X_train_scaled.columns != i], targets: Y_train_scaled})\n",
    "\n",
    "        running_error += batch_error\n",
    "        errors_tr.append(running_error)\n",
    "        if i == 0 :\n",
    "            print('End of epoch {0}: running error average = {1:.2f}'.format(e + 1, running_error))\n",
    "        if e % 10 == 0:\n",
    "            errors_va.append(get_error_and_accuracy(X_val_scaled.loc[:, X_val_scaled.columns != i],Y_val_scaled,error,sess))\n",
    "            if i == 0 :\n",
    "                print('Valid data: Error={0:.2f}'.format(errors_va[-1]))\n",
    "\n",
    "    pre = sess.run(predictions, feed_dict={inputs: X_test_scaled.loc[:, X_test_scaled.columns != i]})\n",
    "    plt.clf\n",
    "    plt.plot( range(0,epochs),errors_tr, 'r--',label='tr')\n",
    "    plt.plot(range(0,epochs,10),errors_va, 'b--',label='va')\n",
    "    plt.legend(bbox_to_anchor=(1.05, 1), loc=2, borderaxespad=0.)\n",
    "    plt.show()\n"
   ]
  },
  {
   "cell_type": "raw",
   "metadata": {},
   "source": [
    "inversed_predictions = sc_Y.inverse_transform(pre)\n",
    "inversed_predictions\n",
    "import csv\n",
    "make_kaggle_submission_file(inversed_predictions,\"lr={0},l2={1},ep={2}***-column1\".format(learning_rate,l2,epochs))"
   ]
  },
  {
   "cell_type": "code",
   "execution_count": null,
   "metadata": {},
   "outputs": [],
   "source": []
  }
 ],
 "metadata": {
  "kernelspec": {
   "display_name": "Python 2",
   "language": "python",
   "name": "python2"
  },
  "language_info": {
   "codemirror_mode": {
    "name": "ipython",
    "version": 2
   },
   "file_extension": ".py",
   "mimetype": "text/x-python",
   "name": "python",
   "nbconvert_exporter": "python",
   "pygments_lexer": "ipython2",
   "version": "2.7.14"
  }
 },
 "nbformat": 4,
 "nbformat_minor": 2
}
