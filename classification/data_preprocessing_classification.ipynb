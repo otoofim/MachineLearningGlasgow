{
 "cells": [
  {
   "cell_type": "code",
   "execution_count": 14,
   "metadata": {},
   "outputs": [],
   "source": [
    "import csv\n",
    "import pandas as pd\n",
    "import numpy as np\n",
    "from sklearn.preprocessing import StandardScaler\n",
    "from sklearn.cross_validation import train_test_split\n",
    "from sklearn.feature_selection import RFE\n",
    "from sklearn import model_selection\n",
    "from sklearn.model_selection import cross_val_score\n",
    "from sklearn.decomposition import PCA\n",
    "import matplotlib.pyplot as plt\n",
    "%matplotlib inline  "
   ]
  },
  {
   "cell_type": "code",
   "execution_count": 15,
   "metadata": {},
   "outputs": [],
   "source": [
    "def make_kaggle_submission_file(predictions, modelName):\n",
    "    ofile  = open('Kaggle_submision_{0}.csv'.format(modelName), \"wb\")\n",
    "    writer = csv.writer(ofile)\n",
    "    writer.writerow([\"Id\",\"EpiOrStroma\"])\n",
    "    for i,score in enumerate(predictions):\n",
    "        writer.writerow([i,score])\n",
    "\n",
    "    ofile.close()"
   ]
  },
  {
   "cell_type": "code",
   "execution_count": 16,
   "metadata": {},
   "outputs": [],
   "source": [
    "def cross_validation(modelCV,X_train, Y_train):\n",
    "    kfold = model_selection.KFold(n_splits=10, random_state=0)\n",
    "    #modelCV = LogisticRegression(max_iter = 200, solver='sag', random_state = 0)\n",
    "    scoring = 'accuracy'\n",
    "    results = cross_val_score(modelCV, X_train, Y_train, cv=kfold, scoring=scoring)\n",
    "    print(\"10-fold cross validation average accuracy: %.3f\" % (results.mean()))"
   ]
  },
  {
   "cell_type": "code",
   "execution_count": 17,
   "metadata": {},
   "outputs": [],
   "source": [
    "# Loading data set\n",
    "data_x_train = pd.read_csv(\"./X_train.csv\")\n",
    "X_test = pd.read_csv(\"./X_test.csv\")\n",
    "data_y_train = pd.read_csv(\"./y_train.csv\")\n",
    "#data_y_train['EpiOrStroma'] = data_y_train['EpiOrStroma']-1"
   ]
  },
  {
   "cell_type": "code",
   "execution_count": 18,
   "metadata": {},
   "outputs": [],
   "source": [
    "# Splitting data set into training and validation sets. 20% of data set is used for validation.\n",
    "X_train, X_val, Y_train, Y_val = train_test_split(data_x_train, data_y_train, test_size = 0.2, random_state = 0)\n",
    "\n",
    "#Feature scaling\n",
    "# It is not needed to scale Ys because they indicate what class a data point belongs to. They are either 1 or 2.\n",
    "sc_X = StandardScaler()\n",
    "X_train_scaled = pd.DataFrame(sc_X.fit_transform(X_train))\n",
    "X_test_scaled = pd.DataFrame(sc_X.transform(X_test))\n",
    "X_val_scaled = pd.DataFrame(sc_X.transform(X_val))\n",
    "\n",
    "\n",
    "#Feature selection\n",
    "\n",
    "#logreg = LogisticRegression(max_iter = 200, solver='sag',random_state = 0)\n",
    "#rfe = RFE(logreg, 112)\n",
    "#rfe = rfe.fit(X_train_scaled, Y_train.iloc[:,1])\n"
   ]
  },
  {
   "cell_type": "code",
   "execution_count": 96,
   "metadata": {},
   "outputs": [
    {
     "name": "stdout",
     "output_type": "stream",
     "text": [
      "27771231.8018\n",
      "4465499.35861\n",
      "13487955.5485\n",
      "59021238.3589\n",
      "37070513.2042\n",
      "30488472.0497\n",
      "12818913.39\n",
      "17700940.4203\n",
      "46650675.392\n",
      "19053883.0028\n",
      "45052778.0322\n",
      "34554166.2923\n",
      "7144965.68695\n",
      "10068360.369\n",
      "16009597.4641\n",
      "18728707.5857\n",
      "16244630.9079\n",
      "18211670.3254\n",
      "49036173.2515\n",
      "23368130.1484\n",
      "21149090.7313\n",
      "10636248.7319\n",
      "33834154.3824\n",
      "34969868.9568\n",
      "28878327.2332\n",
      "23268071.4087\n",
      "11370339.5413\n",
      "42448799.7021\n",
      "25248096.5917\n",
      "29674583.6292\n",
      "22648855.6399\n",
      "46645000.7117\n",
      "37564226.899\n",
      "39426582.3418\n",
      "30225087.6747\n",
      "34035672.0387\n",
      "45860353.2355\n",
      "12533976.5406\n",
      "23364150.0196\n",
      "31875549.2587\n",
      "39075725.4703\n",
      "22760554.1231\n",
      "30583036.6579\n",
      "4705596.54799\n",
      "27843284.1561\n",
      "20856233.3033\n",
      "8201098.27467\n",
      "51582612.4608\n",
      "37591153.5073\n",
      "56767175.8428\n",
      "28820324.804\n",
      "9255066.96939\n",
      "25608666.6181\n",
      "37563769.0404\n",
      "20471392.343\n",
      "15592140.9966\n",
      "22005186.1287\n",
      "15409586.713\n",
      "3826883.76278\n",
      "28685784.0715\n",
      "18369662.2351\n",
      "19749368.3372\n",
      "20690289.6792\n",
      "54588710.065\n",
      "14570644.4962\n",
      "10131012.9131\n",
      "27852131.9064\n",
      "21982371.0399\n",
      "18337440.2046\n",
      "17836020.9191\n",
      "14577284.9351\n",
      "16202669.0306\n",
      "16805614.3073\n",
      "19406580.6909\n",
      "21468346.2631\n",
      "15271302.8485\n",
      "24228340.3363\n",
      "28344563.0286\n",
      "34274043.085\n",
      "72886790.7149\n",
      "31942830.7713\n",
      "12719363.3541\n",
      "58469414.9134\n",
      "35390986.4616\n",
      "38101800.2501\n",
      "11797883.1043\n",
      "46777002.7667\n",
      "49151541.185\n",
      "17121795.5094\n",
      "18252493.1747\n",
      "38626289.8903\n",
      "47719442.8688\n",
      "66507459.344\n",
      "9686032.36905\n",
      "17040403.5888\n",
      "25186837.7846\n",
      "24375493.1204\n",
      "5281115.55175\n",
      "20142805.667\n",
      "4114079.48493\n",
      "53023622.9568\n",
      "18096230.5017\n",
      "21310496.7807\n",
      "41050615.8428\n",
      "10860105.0458\n",
      "39158915.9134\n",
      "21661704.3914\n",
      "34846845.6164\n",
      "19291481.5064\n",
      "35536191.3082\n",
      "31939498.2442\n",
      "41970283.9343\n"
     ]
    }
   ],
   "source": [
    "for i in range(0,112):\n",
    "    print(np.std(X_train.iloc[i]))"
   ]
  },
  {
   "cell_type": "markdown",
   "metadata": {},
   "source": [
    "# Logistic Regression"
   ]
  },
  {
   "cell_type": "code",
   "execution_count": 84,
   "metadata": {},
   "outputs": [],
   "source": [
    "#Meta features\n",
    "\n",
    "pca = PCA(n_components=10)\n",
    "X_train_scaled_PCA = pd.DataFrame(pca.fit_transform(X_train_scaled),columns=[x for x in range(112,122)])\n",
    "X_val_scaled_PCA = pd.DataFrame(pca.transform(X_val_scaled),columns=[x for x in range(112,122)])\n",
    "#X_val_scaled_PCA = pca.transform(X_val_scaled)\n",
    "\n",
    "#Expanding features with PCA \n",
    "big_data_X_train = pd.concat([X_train_scaled,X_train_scaled_PCA], axis=1) \n",
    "big_data_X_val = pd.concat([X_val_scaled,X_val_scaled_PCA], axis=1) "
   ]
  },
  {
   "cell_type": "code",
   "execution_count": 85,
   "metadata": {},
   "outputs": [
    {
     "name": "stdout",
     "output_type": "stream",
     "text": [
      "Accuracy of validation set: 0.908333333333\n",
      "10-fold cross validation average accuracy: 0.906\n"
     ]
    }
   ],
   "source": [
    "# Logistic regression using only PCA features\n",
    "from sklearn.linear_model import LogisticRegression\n",
    "from sklearn.metrics import confusion_matrix\n",
    "\n",
    "classifier = LogisticRegression(max_iter = 200, solver='sag', random_state = 0)\n",
    "classifier.fit(big_data_X_train, Y_train.iloc[:,1])\n",
    "Y_pred = classifier.predict(big_data_X_val)\n",
    "cm = confusion_matrix(Y_val.iloc[:,1], Y_pred)\n",
    "print(\"Accuracy of validation set: {0}\".format(float(cm[0,0]+cm[1,1])/big_data_X_val.shape[0]))\n",
    "cross_validation(LogisticRegression(max_iter = 200, solver='sag', random_state = 0), X_train_scaled_PCA, Y_train.iloc[:,1] )"
   ]
  },
  {
   "cell_type": "code",
   "execution_count": 87,
   "metadata": {
    "scrolled": true
   },
   "outputs": [
    {
     "name": "stdout",
     "output_type": "stream",
     "text": [
      "Accuracy of validation set: 0.916666666667\n"
     ]
    }
   ],
   "source": [
    "from sklearn.linear_model import LogisticRegression\n",
    "from sklearn.metrics import confusion_matrix\n",
    "\n",
    "classifier = LogisticRegression(max_iter = 200, solver='sag', random_state = 0)\n",
    "classifier.fit(X_train_scaled.iloc[:,0:40], Y_train.iloc[:,1])\n",
    "Y_pred = classifier.predict(X_val_scaled.iloc[:,0:40])\n",
    "cm = confusion_matrix(Y_val.iloc[:,1], Y_pred)\n",
    "print(\"Accuracy of validation set: {0}\".format(float(cm[0,0]+cm[1,1])/X_val_scaled.shape[0]))"
   ]
  },
  {
   "cell_type": "code",
   "execution_count": 88,
   "metadata": {},
   "outputs": [
    {
     "data": {
      "text/plain": [
       "array([[35,  8],\n",
       "       [ 2, 75]])"
      ]
     },
     "execution_count": 88,
     "metadata": {},
     "output_type": "execute_result"
    }
   ],
   "source": [
    "cm"
   ]
  },
  {
   "cell_type": "markdown",
   "metadata": {},
   "source": [
    "## Cross-validation"
   ]
  },
  {
   "cell_type": "code",
   "execution_count": 81,
   "metadata": {},
   "outputs": [
    {
     "name": "stdout",
     "output_type": "stream",
     "text": [
      "10-fold cross validation average accuracy: 0.908\n"
     ]
    }
   ],
   "source": [
    "cross_validation(LogisticRegression(max_iter = 200, solver='sag', random_state = 0), X_train_scaled.iloc[:,0:40], Y_train.iloc[:,1] )"
   ]
  },
  {
   "cell_type": "code",
   "execution_count": 9,
   "metadata": {},
   "outputs": [],
   "source": [
    "Y_pred_test = classifier.predict(X_test_scaled)\n",
    "make_kaggle_submission_file(Y_pred_test, \"LR\")"
   ]
  },
  {
   "cell_type": "markdown",
   "metadata": {},
   "source": [
    "# K-NN"
   ]
  },
  {
   "cell_type": "code",
   "execution_count": 10,
   "metadata": {},
   "outputs": [],
   "source": [
    "from sklearn.neighbors import KNeighborsClassifier"
   ]
  },
  {
   "cell_type": "code",
   "execution_count": 11,
   "metadata": {},
   "outputs": [
    {
     "name": "stdout",
     "output_type": "stream",
     "text": [
      "Accuracy of validation set: 0.883333333333\n"
     ]
    }
   ],
   "source": [
    "classifier = KNeighborsClassifier(n_neighbors = 5, metric = 'minkowski', p = 2)\n",
    "classifier.fit(X_train_scaled, Y_train.iloc[:,1])\n",
    "Y_pred = classifier.predict(X_val_scaled)\n",
    "cm = confusion_matrix(Y_val.iloc[:,1], Y_pred)\n",
    "print(\"Accuracy of validation set: {0}\".format(float(cm[0,0]+cm[1,1])/X_val_scaled.shape[0]))"
   ]
  },
  {
   "cell_type": "code",
   "execution_count": 12,
   "metadata": {},
   "outputs": [
    {
     "data": {
      "text/plain": [
       "array([[35,  8],\n",
       "       [ 6, 71]])"
      ]
     },
     "execution_count": 12,
     "metadata": {},
     "output_type": "execute_result"
    }
   ],
   "source": [
    "cm"
   ]
  },
  {
   "cell_type": "code",
   "execution_count": 13,
   "metadata": {},
   "outputs": [
    {
     "name": "stdout",
     "output_type": "stream",
     "text": [
      "10-fold cross validation average accuracy: 0.908\n"
     ]
    }
   ],
   "source": [
    "cross_validation(KNeighborsClassifier(n_neighbors = 5, metric = 'minkowski', p = 2), X_train_scaled, Y_train.iloc[:,1] )"
   ]
  },
  {
   "cell_type": "markdown",
   "metadata": {},
   "source": [
    "# SVM"
   ]
  },
  {
   "cell_type": "code",
   "execution_count": 14,
   "metadata": {},
   "outputs": [],
   "source": [
    "from sklearn.svm import SVC"
   ]
  },
  {
   "cell_type": "code",
   "execution_count": 15,
   "metadata": {
    "scrolled": true
   },
   "outputs": [],
   "source": [
    "X_train_scaled['112'] = X_train_scaled.mean(numeric_only=True, axis=1)\n",
    "X_val_scaled['112'] = X_val_scaled.mean(numeric_only=True, axis=1)\n",
    "X_test_scaled['112'] = X_test_scaled.mean(numeric_only=True, axis=1)\n",
    "#X_train_scaled"
   ]
  },
  {
   "cell_type": "code",
   "execution_count": 16,
   "metadata": {},
   "outputs": [
    {
     "name": "stdout",
     "output_type": "stream",
     "text": [
      "Accuracy of validation set: 0.916666666667\n"
     ]
    }
   ],
   "source": [
    "classifier = SVC(kernel = 'linear', random_state = 0, degree = 3)\n",
    "classifier.fit(X_train_scaled, Y_train.iloc[:,1])\n",
    "Y_pred = classifier.predict(X_val_scaled)\n",
    "cm = confusion_matrix(Y_val.iloc[:,1], Y_pred)\n",
    "print(\"Accuracy of validation set: {0}\".format(float(cm[0,0]+cm[1,1])/X_val_scaled.shape[0]))"
   ]
  },
  {
   "cell_type": "code",
   "execution_count": 17,
   "metadata": {},
   "outputs": [
    {
     "data": {
      "text/plain": [
       "array([[35,  8],\n",
       "       [ 2, 75]])"
      ]
     },
     "execution_count": 17,
     "metadata": {},
     "output_type": "execute_result"
    }
   ],
   "source": [
    "cm"
   ]
  },
  {
   "cell_type": "code",
   "execution_count": 18,
   "metadata": {},
   "outputs": [
    {
     "name": "stdout",
     "output_type": "stream",
     "text": [
      "10-fold cross validation average accuracy: 0.892\n"
     ]
    }
   ],
   "source": [
    "cross_validation(SVC(kernel = 'linear', random_state = 0, degree = 3), X_train_scaled, Y_train.iloc[:,1] )"
   ]
  },
  {
   "cell_type": "code",
   "execution_count": 19,
   "metadata": {},
   "outputs": [],
   "source": [
    "Y_pred_test = classifier.predict(X_test_scaled)\n",
    "make_kaggle_submission_file(Y_pred_test, \"SVM\")"
   ]
  },
  {
   "cell_type": "markdown",
   "metadata": {},
   "source": [
    "# SVD my own implementation"
   ]
  },
  {
   "cell_type": "code",
   "execution_count": 12,
   "metadata": {},
   "outputs": [],
   "source": [
    "#lets perform stochastic gradient descent to learn the seperating hyperplane between both classes\n",
    "\n",
    "def svm_sgd_plot(X, Y):\n",
    "    #Initialize our SVMs weight vector with zeros (3 values)\n",
    "    w = np.zeros(len(X[0]))\n",
    "    #The learning rate\n",
    "    eta = 0.001\n",
    "    #how many iterations to train for\n",
    "    epochs = 100\n",
    "    #store misclassifications so we can plot how they change over time\n",
    "    errors = []\n",
    "\n",
    "    #training part, gradient descent part\n",
    "    for epoch in range(1,epochs):\n",
    "        error = 0\n",
    "        for i, x in enumerate(X):\n",
    "            #misclassification\n",
    "            if (Y[i]*np.dot(X[i], w)) < 1:\n",
    "                #misclassified update for ours weights\n",
    "                w = w + eta * ( (X[i] * Y[i]) + (-2  *(1/epoch)* w) )\n",
    "                error = 1\n",
    "            else:\n",
    "                #correct classification, update our weights\n",
    "                w = w + eta * (-2  *(1/epoch)* w)\n",
    "        errors.append(error)\n",
    "        \n",
    "\n",
    "    #lets plot the rate of classification errors during training for our SVM\n",
    "    plt.plot(errors, '|')\n",
    "    plt.ylim(0.5,1.5)\n",
    "    plt.axes().set_yticklabels([])\n",
    "    plt.xlabel('Epoch')\n",
    "    plt.ylabel('Misclassified')\n",
    "    plt.show()\n",
    "    \n",
    "    return w,errors"
   ]
  },
  {
   "cell_type": "code",
   "execution_count": 13,
   "metadata": {},
   "outputs": [
    {
     "name": "stderr",
     "output_type": "stream",
     "text": [
      "/home/motoofi/miniconda2/envs/mlp/lib/python2.7/site-packages/matplotlib/cbook/deprecation.py:106: MatplotlibDeprecationWarning: Adding an axes using the same arguments as a previous axes currently reuses the earlier instance.  In a future version, a new instance will always be created and returned.  Meanwhile, this warning can be suppressed, and the future behavior ensured, by passing a unique label to each axes instance.\n",
      "  warnings.warn(message, mplDeprecation, stacklevel=1)\n"
     ]
    },
    {
     "data": {
      "image/png": "[encoded data removed]",
      "text/plain": [
       "<matplotlib.figure.Figure at 0x7f2770513fd0>"
      ]
     },
     "metadata": {},
     "output_type": "display_data"
    }
   ],
   "source": [
    "w,e = svm_sgd_plot(X_train_scaled.values, Y_train.iloc[:,1].values)"
   ]
  },
  {
   "cell_type": "code",
   "execution_count": null,
   "metadata": {},
   "outputs": [],
   "source": []
  }
 ],
 "metadata": {
  "kernelspec": {
   "display_name": "Python 2",
   "language": "python",
   "name": "python2"
  },
  "language_info": {
   "codemirror_mode": {
    "name": "ipython",
    "version": 2
   },
   "file_extension": ".py",
   "mimetype": "text/x-python",
   "name": "python",
   "nbconvert_exporter": "python",
   "pygments_lexer": "ipython2",
   "version": "2.7.14"
  }
 },
 "nbformat": 4,
 "nbformat_minor": 2
}
